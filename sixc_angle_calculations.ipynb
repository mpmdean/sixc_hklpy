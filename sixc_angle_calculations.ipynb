{
 "cells": [
  {
   "cell_type": "markdown",
   "metadata": {},
   "source": [
    "# TARDIS Configuration\n",
    "\n",
    "The diffractometer geometry with angle and axis definitions are depicted below. These are taken from Lohmeier and E. Vlieg J. Appl. Cryst. 26, 706-716 (1993).\n",
    "\n",
    "<img src=\"6c_diffractometer.png\" width=480 height=320>\n",
    "<img src=\"6c_angle_definitions.png\" width=480 height=320>\n",
    "\n"
   ]
  },
  {
   "cell_type": "markdown",
   "metadata": {},
   "source": [
    "These calculations use the hklpy library:\n",
    "https://github.com/NSLS-II/hklpy\n",
    "\n",
    "The remapping of motor name conventions is done by hkl_to_tardis.py\n"
   ]
  },
  {
   "cell_type": "code",
   "execution_count": 1,
   "metadata": {
    "scrolled": false
   },
   "outputs": [],
   "source": [
    "%run /home/mdean/HKL_calculations/hkl_to_tardis.py"
   ]
  },
  {
   "cell_type": "markdown",
   "metadata": {},
   "source": [
    "## Constraints are defined here"
   ]
  },
  {
   "cell_type": "code",
   "execution_count": 2,
   "metadata": {
    "collapsed": true
   },
   "outputs": [],
   "source": [
    "# Allow motion of these within the set limits\n",
    "tardis.calc['theta'].limits = (-181, 181)\n",
    "tardis.calc['theta'].value = 0\n",
    "tardis.calc['theta'].fit = True\n",
    "\n",
    "tardis.calc['delta'].limits = (-5, 180)\n",
    "tardis.calc['delta'].value = 0\n",
    "tardis.calc['delta'].fit = True\n",
    "\n",
    "tardis.calc['gamma'].limits = (-5, 180)\n",
    "tardis.calc['gamma'].value = 0\n",
    "tardis.calc['gamma'].fit = True\n",
    "\n",
    "# Motors that don't exist are fixed to zero\n",
    "tardis.calc['phi'].limits = (0, 0)\n",
    "tardis.calc['phi'].value = 0\n",
    "tardis.calc['phi'].fit = False\n",
    "\n",
    "tardis.calc['chi'].limits = (0, 0)\n",
    "tardis.calc['chi'].value = 0\n",
    "tardis.calc['chi'].fit = False\n",
    "\n",
    "tardis.calc['omega'].limits = (0, 0)\n",
    "tardis.calc['omega'].value = 0\n",
    "tardis.calc['omega'].fit = False"
   ]
  },
  {
   "cell_type": "markdown",
   "metadata": {},
   "source": [
    "## Set lattice \n",
    "Units are angstroms and degrees. Energy is in 10s of keV!"
   ]
  },
  {
   "cell_type": "code",
   "execution_count": 3,
   "metadata": {},
   "outputs": [],
   "source": [
    "lattice = Lattice(a = 3.84, b = 3.84, c = 12.65, alpha = 90, beta = 90, gamma = 90)  \n",
    "tardis.lattice.put(lattice)\n",
    "\n",
    "tardis.calc.energy = 855. / 10000"
   ]
  },
  {
   "cell_type": "markdown",
   "metadata": {},
   "source": [
    "## Set reflections for UB matrix"
   ]
  },
  {
   "cell_type": "code",
   "execution_count": 4,
   "metadata": {},
   "outputs": [],
   "source": [
    "r_cdw = tardis.calc.sample.add_reflection(0.28, 0.28, 1, position=tardis.calc.Position(theta=113, omega=0, chi=0.0, phi=0.0, delta=147.79, gamma=13))\n",
    "r_sdw = tardis.calc.sample.add_reflection(0.36, 0.36, 0, position=tardis.calc.Position(theta=77.8, omega=0, chi=0.0, phi=0.0, delta=152.2, gamma=16.55))"
   ]
  },
  {
   "cell_type": "markdown",
   "metadata": {},
   "source": [
    "## Compute angles for Q vector"
   ]
  },
  {
   "cell_type": "code",
   "execution_count": 5,
   "metadata": {},
   "outputs": [
    {
     "data": {
      "text/plain": [
       "PosCalcE6C(theta=77.279681294021, omega=0.0, chi=0.0, phi=0.0, delta=64.55936258804206, gamma=0.0)"
      ]
     },
     "execution_count": 5,
     "metadata": {},
     "output_type": "execute_result"
    }
   ],
   "source": [
    "tardis.forward(0.2, 0.2, 0.)"
   ]
  },
  {
   "cell_type": "markdown",
   "metadata": {},
   "source": [
    "## Compute HKL at arbitrary anlges "
   ]
  },
  {
   "cell_type": "code",
   "execution_count": 6,
   "metadata": {},
   "outputs": [
    {
     "name": "stdout",
     "output_type": "stream",
     "text": [
      "delta = 90.000\n",
      "theta = 45.000\n",
      "gamma = 5.000\n",
      "phi = 0.000\n",
      "chi = 0.000\n",
      "omega = 0.000\n",
      "Q = (-0.000712533218437093, 0.3737824401719904, 0.07603023003116395)\n"
     ]
    }
   ],
   "source": [
    "tardis.delta.set(90)\n",
    "tardis.theta.set(45)\n",
    "tardis.gamma.set(5)\n",
    "\n",
    "for motor in ['delta', 'theta', 'gamma', 'phi', 'chi', 'omega']:\n",
    "    print(\"{} = {:.3f}\".format(motor, getattr(tardis, motor).position))\n",
    "\n",
    "print(\"Q = ({}, {}, {})\".format(*tardis.position))"
   ]
  }
 ],
 "metadata": {
  "kernelspec": {
   "display_name": "Dean Analysis",
   "language": "python",
   "name": "dean_analysis"
  },
  "language_info": {
   "codemirror_mode": {
    "name": "ipython",
    "version": 3
   },
   "file_extension": ".py",
   "mimetype": "text/x-python",
   "name": "python",
   "nbconvert_exporter": "python",
   "pygments_lexer": "ipython3",
   "version": "3.5.2"
  }
 },
 "nbformat": 4,
 "nbformat_minor": 1
}
